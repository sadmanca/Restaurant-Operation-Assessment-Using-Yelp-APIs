{
  "cells": [
    {
      "cell_type": "markdown",
      "metadata": {
        "id": "KHYNoIKvVrds"
      },
      "source": [
        "### Scrape data using Yelp APIs"
      ]
    },
    {
      "cell_type": "code",
      "execution_count": null,
      "metadata": {
        "colab": {
          "base_uri": "https://localhost:8080/",
          "height": 1000,
          "resources": {
            "http://localhost:8080/nbextensions/google.colab/files.js": {
              "data": "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",
              "headers": [
                [
                  "content-type",
                  "application/javascript"
                ]
              ],
              "ok": true,
              "status": 200,
              "status_text": ""
            }
          }
        },
        "id": "tVUzx61r3iUZ",
        "outputId": "64081f16-79bc-4c9f-a52f-b2122a7b6ade"
      },
      "outputs": [
        {
          "data": {
            "text/html": [
              "\n",
              "     <input type=\"file\" id=\"files-398e1981-5f45-4b8a-9e99-4b442691d45d\" name=\"files[]\" multiple disabled\n",
              "        style=\"border:none\" />\n",
              "     <output id=\"result-398e1981-5f45-4b8a-9e99-4b442691d45d\">\n",
              "      Upload widget is only available when the cell has been executed in the\n",
              "      current browser session. Please rerun this cell to enable.\n",
              "      </output>\n",
              "      <script src=\"/nbextensions/google.colab/files.js\"></script> "
            ],
            "text/plain": [
              "<IPython.core.display.HTML object>"
            ]
          },
          "metadata": {
            "tags": []
          },
          "output_type": "display_data"
        },
        {
          "name": "stdout",
          "output_type": "stream",
          "text": [
            "Saving categories.json to categories (2).json\n",
            "afghani: 0-50\n",
            "african: 0-50\n",
            "arabian: 0-50\n",
            "argentine: 0-50\n",
            "asianfusion: 0-50\n",
            "asianfusion: 50-100\n",
            "asianfusion: 100-150\n",
            "australian: 0-50\n",
            "austrian: 0-50\n",
            "bangladeshi: 0-50\n",
            "bbq: 0-50\n",
            "bbq: 50-100\n",
            "bbq: 100-150\n",
            "belgian: 0-50\n",
            "bistros: 0-50\n",
            "brasseries: 0-50\n",
            "brazilian: 0-50\n",
            "breakfast_brunch: 0-50\n",
            "breakfast_brunch: 50-100\n",
            "breakfast_brunch: 100-150\n",
            "breakfast_brunch: 150-200\n",
            "breakfast_brunch: 200-250\n",
            "breakfast_brunch: 250-300\n",
            "breakfast_brunch: 300-350\n",
            "breakfast_brunch: 350-400\n",
            "british: 0-50\n",
            "buffets: 0-50\n",
            "burgers: 0-50\n",
            "burgers: 50-100\n",
            "burgers: 100-150\n",
            "burgers: 150-200\n",
            "burgers: 200-250\n",
            "burgers: 250-300\n",
            "burgers: 300-350\n",
            "burgers: 350-400\n",
            "burmese: 0-50\n",
            "cafes: 0-50\n",
            "cafes: 50-100\n",
            "cafes: 100-150\n",
            "cafes: 150-200\n",
            "cafes: 200-250\n",
            "cafes: 250-300\n",
            "cafes: 300-350\n",
            "cafes: 350-400\n",
            "cajun: 0-50\n",
            "cambodian: 0-50\n",
            "caribbean: 0-50\n",
            "caribbean: 50-100\n",
            "caribbean: 100-150\n",
            "cheesesteaks: 0-50\n",
            "chicken_wings: 0-50\n",
            "chicken_wings: 50-100\n",
            "chicken_wings: 100-150\n",
            "chicken_wings: 150-200\n",
            "chicken_wings: 200-250\n",
            "chickenshop: 0-50\n",
            "chickenshop: 50-100\n",
            "chinese: 0-50\n",
            "chinese: 50-100\n",
            "chinese: 100-150\n",
            "chinese: 150-200\n",
            "chinese: 200-250\n",
            "chinese: 250-300\n",
            "chinese: 300-350\n",
            "chinese: 350-400\n",
            "chinese: 400-450\n",
            "comfortfood: 0-50\n",
            "comfortfood: 50-100\n",
            "creperies: 0-50\n",
            "cuban: 0-50\n",
            "czech: 0-50\n",
            "delis: 0-50\n",
            "delis: 50-100\n",
            "diners: 0-50\n",
            "diners: 50-100\n",
            "dinnertheater: 0-50\n",
            "dumplings: 0-50\n",
            "ethiopian: 0-50\n",
            "filipino: 0-50\n",
            "filipino: 50-100\n",
            "fishnchips: 0-50\n",
            "fondue: 0-50\n",
            "food_court: 0-50\n",
            "foodstands: 0-50\n",
            "french: 0-50\n",
            "french: 50-100\n",
            "gastropubs: 0-50\n",
            "german: 0-50\n",
            "gluten_free: 0-50\n",
            "gluten_free: 50-100\n",
            "greek: 0-50\n",
            "greek: 50-100\n",
            "halal: 0-50\n",
            "halal: 50-100\n",
            "hawaiian: 0-50\n",
            "himalayan: 0-50\n",
            "hkcafe: 0-50\n",
            "hotdog: 0-50\n",
            "hotdogs: 0-50\n",
            "hotdogs: 50-100\n",
            "hotdogs: 100-150\n",
            "hotdogs: 150-200\n",
            "hotdogs: 200-250\n",
            "hotdogs: 250-300\n",
            "hotdogs: 300-350\n",
            "hotdogs: 350-400\n",
            "hotdogs: 400-450\n",
            "hotdogs: 450-500\n",
            "hotdogs: 500-550\n",
            "hotpot: 0-50\n",
            "hungarian: 0-50\n",
            "indonesian: 0-50\n",
            "indpak: 0-50\n",
            "indpak: 50-100\n",
            "indpak: 100-150\n",
            "indpak: 150-200\n",
            "indpak: 200-250\n",
            "international: 0-50\n",
            "irish: 0-50\n",
            "italian: 0-50\n",
            "italian: 50-100\n",
            "italian: 100-150\n",
            "italian: 150-200\n",
            "italian: 200-250\n",
            "italian: 250-300\n",
            "italian: 300-350\n",
            "italian: 350-400\n",
            "japanese: 0-50\n",
            "japanese: 50-100\n",
            "japanese: 100-150\n",
            "japanese: 150-200\n",
            "japanese: 200-250\n",
            "japanese: 250-300\n",
            "japanese: 300-350\n",
            "japanese: 350-400\n",
            "kebab: 0-50\n",
            "korean: 0-50\n",
            "korean: 50-100\n",
            "korean: 100-150\n",
            "korean: 150-200\n",
            "kosher: 0-50\n",
            "laotian: 0-50\n",
            "latin: 0-50\n",
            "latin: 50-100\n",
            "malaysian: 0-50\n",
            "mediterranean: 0-50\n",
            "mediterranean: 50-100\n",
            "mediterranean: 100-150\n",
            "mediterranean: 150-200\n",
            "mexican: 0-50\n",
            "mexican: 50-100\n",
            "mexican: 100-150\n",
            "mexican: 150-200\n",
            "mexican: 200-250\n",
            "mideastern: 0-50\n",
            "mideastern: 50-100\n",
            "mideastern: 100-150\n",
            "mideastern: 150-200\n",
            "mideastern: 200-250\n",
            "modern_european: 0-50\n",
            "mongolian: 0-50\n",
            "moroccan: 0-50\n",
            "newcanadian: 0-50\n",
            "newcanadian: 50-100\n",
            "newcanadian: 100-150\n",
            "newcanadian: 150-200\n",
            "newcanadian: 200-250\n",
            "newcanadian: 250-300\n",
            "nicaraguan: 0-50\n",
            "noodles: 0-50\n",
            "noodles: 50-100\n",
            "pakistani: 0-50\n",
            "panasian: 0-50\n",
            "persian: 0-50\n",
            "peruvian: 0-50\n",
            "pizza: 0-50\n",
            "pizza: 50-100\n",
            "pizza: 100-150\n",
            "pizza: 150-200\n",
            "pizza: 200-250\n",
            "pizza: 250-300\n",
            "pizza: 300-350\n",
            "pizza: 350-400\n",
            "pizza: 400-450\n",
            "pizza: 450-500\n",
            "pizza: 500-550\n",
            "pizza: 550-600\n",
            "polish: 0-50\n",
            "popuprestaurants: 0-50\n",
            "portuguese: 0-50\n",
            "portuguese: 50-100\n",
            "poutineries: 0-50\n",
            "raw_food: 0-50\n",
            "russian: 0-50\n",
            "salad: 0-50\n",
            "salad: 50-100\n",
            "salad: 100-150\n",
            "salad: 150-200\n",
            "sandwiches: 0-50\n",
            "sandwiches: 50-100\n",
            "sandwiches: 100-150\n",
            "sandwiches: 150-200\n",
            "sandwiches: 200-250\n",
            "sandwiches: 250-300\n",
            "sandwiches: 300-350\n",
            "sandwiches: 350-400\n",
            "sandwiches: 400-450\n",
            "sandwiches: 450-500\n",
            "sandwiches: 500-550\n",
            "scottish: 0-50\n",
            "seafood: 0-50\n",
            "seafood: 50-100\n",
            "seafood: 100-150\n",
            "seafood: 150-200\n",
            "singaporean: 0-50\n",
            "slovakian: 0-50\n",
            "soulfood: 0-50\n",
            "soup: 0-50\n",
            "soup: 50-100\n",
            "southern: 0-50\n",
            "spanish: 0-50\n",
            "srilankan: 0-50\n",
            "steak: 0-50\n",
            "supperclubs: 0-50\n",
            "sushi: 0-50\n",
            "sushi: 50-100\n",
            "sushi: 100-150\n",
            "sushi: 150-200\n",
            "sushi: 200-250\n",
            "sushi: 250-300\n",
            "syrian: 0-50\n",
            "taiwanese: 0-50\n",
            "tapas: 0-50\n",
            "tapasmallplates: 0-50\n",
            "tex-mex: 0-50\n",
            "thai: 0-50\n",
            "thai: 50-100\n",
            "thai: 100-150\n",
            "thai: 150-200\n",
            "thai: 200-250\n",
            "tradamerican: 0-50\n",
            "tradamerican: 50-100\n",
            "tradamerican: 100-150\n",
            "tradamerican: 150-200\n",
            "turkish: 0-50\n",
            "ukrainian: 0-50\n",
            "vegan: 0-50\n",
            "vegan: 50-100\n",
            "vegetarian: 0-50\n",
            "vegetarian: 50-100\n",
            "vietnamese: 0-50\n",
            "vietnamese: 50-100\n",
            "vietnamese: 100-150\n",
            "waffles: 0-50\n"
          ]
        },
        {
          "name": "stderr",
          "output_type": "stream",
          "text": [
            "/usr/local/lib/python3.7/dist-packages/ipykernel_launcher.py:61: FutureWarning: pandas.io.json.json_normalize is deprecated, use pandas.json_normalize instead\n"
          ]
        },
        {
          "name": "stdout",
          "output_type": "stream",
          "text": [
            "                          id  ...                           location.display_address\n",
            "0     K3V9JWBZgIMtSICc4kBRUA  ...    [691 Yonge Street, Toronto, ON M4Y 2B2, Canada]\n",
            "1     VDhLScy4FneNi9LcVOg-aQ  ...  [55 St Clair Avenue W, Toronto, ON M4V 2Y7, Ca...\n",
            "2     GdCRQU3VCh_x8fY84mbwYQ  ...  [62 Overlea Boulevard, East York, ON M4H 1C4, ...\n",
            "3     MvNRA9k-xF9ug5gXZexPog  ...      [62 Laird Drive, Toronto, ON M4G 3V1, Canada]\n",
            "4     mKmriKe46YUIrTURfBDExg  ...         [119 Spadina Ave, Toronto, ON M5V, Canada]\n",
            "...                      ...  ...                                                ...\n",
            "9039  buMP3nR_-EL2ROE7nKMBUg  ...  [109 McCaul Street, Unit 28B, Toronto, ON M5T ...\n",
            "9040  HPrYNgMkdQWEE4XLzLqPAA  ...  [469 Queen Street W, Toronto, ON M5V 2A9, Canada]\n",
            "9041  e3zkVroknHTO7rX0RVr-Pg  ...        [94 York Blvd, Toronto, ON M7A 2C5, Canada]\n",
            "9042  25IJ2tocJfC1ufW-qnRjMw  ...                          [Toronto, ON M5H, Canada]\n",
            "9043  Ct3EA87rf_liNzwzbmNUgw  ...  [Dragon City Centre, 280 Spadina Ave, Toronto,...\n",
            "\n",
            "[9044 rows x 24 columns]\n"
          ]
        }
      ],
      "source": [
        "import requests\n",
        "import json\n",
        "import time\n",
        "import io\n",
        "from google.colab import files\n",
        "import pandas as pd  \n",
        "import config\n",
        "\n",
        "# Testing API Endpoints\n",
        "\n",
        "API_KEY = config.API_KEY\n",
        "CLIENT_ID = config.CLIENT_ID\n",
        "\n",
        "ENDPOINT = \"https://api.yelp.com/v3/businesses/search\"\n",
        "\n",
        "HEADERS = {'Authorization': 'bearer %s' % API_KEY}\n",
        "\n",
        "PARAMETERS = {'term': 'restaurants',\n",
        "              'offset': 0,\n",
        "              'limit': 50,\n",
        "              'radius': 40000,\n",
        "              'location': 'Toronto, ON'}\n",
        "\n",
        "response = requests.get(url=ENDPOINT, params=PARAMETERS, headers=HEADERS)\n",
        "restaurant_data = response.json()\n",
        "\n",
        "uploaded = files.upload()\n",
        "file_name = 'categories.json'\n",
        "#io.StringIO[file_name].decode(\"utf-8\")\n",
        "data = json.loads(uploaded[file_name].decode(\"utf-8\"))\n",
        "\n",
        "# Load all categories\n",
        "# each item in restaurant is dictionary\n",
        "#with open(uploaded) as f:\n",
        "#    data = json.load(uploaded)\n",
        "\n",
        "restaurants = [place for place in data if 'restaurants' in place['parents']]\n",
        "\n",
        "restaurant_aliases = [restaurant['alias'] for restaurant in restaurants]\n",
        "restaurant_titles = [restaurant['title'] for restaurant in restaurants]\n",
        "\n",
        "# Loop through all categories and collect data\n",
        "restaurants_in_toronto = []\n",
        "\n",
        "for category in restaurant_aliases:\n",
        "    PARAMETERS['categories'] = category\n",
        "    # Cycle through restaurants\n",
        "    for offset_number in range(0,1000,50):\n",
        "        PARAMETERS['offset'] = offset_number\n",
        "\n",
        "        response = requests.get(url=ENDPOINT, params=PARAMETERS, headers=HEADERS)\n",
        "\n",
        "        if not response.json().get('businesses', False):\n",
        "            break\n",
        "\n",
        "        restaurants_in_toronto.extend(response.json()['businesses'])\n",
        "\n",
        "        print(\"{}: {}-{}\".format(category, offset_number, offset_number+50))\n",
        "        \n",
        "        time.sleep(0.5) ## Don't want to get blocked by Yelp API\n",
        "\n",
        "df_new = pd.io.json.json_normalize(restaurants_in_toronto)\n",
        "print(df_new)\n",
        "\n",
        "#restaurants_file =  open(\"toronto_restaurants_duplicates.json\", \"w\")\n",
        "#json.dump(restaurants_in_toronto, restaurants_file, indent=6)\n",
        "#restaurants_file.close()\n",
        "\n",
        "res_list = [value for counter, value in enumerate(restaurants_in_toronto) if value not in restaurants_in_toronto[counter+1:]]\n",
        "\n",
        "\n",
        "#restaurants_file = open(\"toronto_restaurants.json\", \"w\")\n",
        "#json.dump(res_list, restaurants_file, indent=6)\n",
        "#restaurants_file.close()\n",
        "\n",
        "new_list = sorted(res_list,key=lambda k: k['name'])\n",
        "\n",
        "#print(new_list)\n"
      ]
    },
    {
      "cell_type": "code",
      "execution_count": null,
      "metadata": {
        "id": "eQTLZjAXLffs"
      },
      "outputs": [],
      "source": [
        "df_new.to_csv(\"May2021.csv\")"
      ]
    },
    {
      "cell_type": "markdown",
      "metadata": {
        "id": "zuoc3b1rV58q"
      },
      "source": [
        "### Assign neighbourhoods using postal codes"
      ]
    },
    {
      "cell_type": "code",
      "execution_count": null,
      "metadata": {
        "colab": {
          "base_uri": "https://localhost:8080/"
        },
        "id": "7r5NVHV-fmdZ",
        "outputId": "e72f6c05-376d-435b-b3ad-4c90b7f6d526"
      },
      "outputs": [
        {
          "name": "stdout",
          "output_type": "stream",
          "text": [
            "(9044, 25)\n",
            "(9016, 25)\n"
          ]
        }
      ],
      "source": [
        "# Assign to neighbourhood\n",
        "import pandas as pd  \n",
        "\n",
        "lookupPostal = {\n",
        "    'M4R': 'Central Toronto (North Toronto West)',\n",
        "    'M5K': 'Downtown Toronto (Toronto Dominion Centre / Design Exchange)',\n",
        "    'M5S': 'Downtown Toronto (University of Toronto / Harbord)',\n",
        "    'M3K': 'Other', # previously 'Downsview East (CFB Toronto)'\n",
        "    'M4E': 'East Toronto (The Beaches)',\n",
        "    'M4J': 'East Toronto (The Danforth East)',\n",
        "    'M4M': 'East Toronto (Studio District)',\n",
        "    'M4N': 'Central Toronto (Lawrence Park East)',\n",
        "    'M4P': 'Central Toronto (Davisville North)',\n",
        "    'M4S': 'Central Toronto (Davisville)',\n",
        "    'M4W': 'Downtown Toronto (Rosedale)',\n",
        "    'M4Y': 'Downtown Toronto (Church and Wellesley)',\n",
        "    'M5B': 'Downtown Toronto (Ryerson)',\n",
        "    'M5C': 'Downtown Toronto (St. James Park)',\n",
        "    'M5E': 'Downtown Toronto (Berczy Park)',\n",
        "    'M5G': 'Downtown Toronto (Central Bay Street)',\n",
        "    'M5N': 'Central Toronto (Roselawn)',\n",
        "    'M5X': 'Downtown Toronto (Underground city)',\n",
        "    'M6G': 'Downtown Toronto (Christie)',\n",
        "    'M6H': 'West Toronto (Dufferin / Dovercourt Village)',\n",
        "    'M6R': 'West Toronto (Parkdale / Roncesvalles Village)',\n",
        "    'M5J': 'Downtown Toronto (Harbourfront East / Union Station / Toronto Island)',\n",
        "    'M6J': 'West Toronto (Rua Aþores / Trinity)',\n",
        "    'M4K': 'East Toronto (The Danforth West / Riverdale)',\n",
        "    'M4L': 'East Toronto (India Bazaar / The Beaches West)',\n",
        "    'M4T': 'Central Toronto (Moore Park / Summerhill East)',\n",
        "    'M4X': 'Downtown Toronto (St. James Town / Cabbagetown)',\n",
        "    'M5L': 'Downtown Toronto (Commerce Court / Victoria Hotel)',\n",
        "    'M5P': 'Central Toronto (Forest Hill North & West)',\n",
        "    'M5R': 'Central Toronto (The Annex / North Midtown / Yorkville)',\n",
        "    'M5T': 'Downtown Toronto (Kensington Market / Chinatown / Grange Park)',\n",
        "    'M6P': 'West Toronto (High Park / The Junction South)',\n",
        "    'M6S': 'West Toronto (Bloor West Village / Swansea)',\n",
        "    'M8V': 'West Toronto (New Toronto / Mimico South / Humber Bay Shores)', # previously 'Etobicoke (New Toronto / Mimico South / Humber Bay Shores)'\n",
        "    'M4V': 'Central Toronto (Summerhill West / Rathnelly / South Hill / Forest Hill SE / Deer Park)',\n",
        "    'M5V': 'Downtown Toronto (CN Tower / King and Spadina / Railway Lands / Harbourfront West / Bathurst Quay / South Niagara / YTZ)',\n",
        "    'M5W': 'Downtown Toronto Stn A PO Boxes 25 The Esplanade (Enclave of M5E)',\n",
        "    'M7Y': 'East Toronto Business Reply Mail Processing Centre 969 Eastern (Enclave of M4L)',\n",
        "    'M5A': 'Downtown Toronto (Regent Park / Port of Toronto)',\n",
        "}\n",
        "\n",
        "with open ('May2021.csv', 'r') as myfile:\n",
        "  MayNov = pd.read_csv(myfile)\n",
        " \n",
        "labelNeigh = []\n",
        "code = []\n",
        "\n",
        "print(MayNov.shape)\n",
        "\n",
        "isNaNCode = MayNov['location.zip_code'] == MayNov['location.zip_code']\n",
        "MayNov = MayNov[isNaNCode]\n",
        "\n",
        "print(MayNov.shape)\n",
        "\n",
        "for index, row in MayNov.iterrows():\n",
        "  code.append(row['location.zip_code'])\n",
        "    \n",
        "for i in code:\n",
        "  if i[:3] in lookupPostal:\n",
        "    labelNeigh.append(lookupPostal[i[:3]])\n",
        "  else:\n",
        "    labelNeigh.append('Other')\n"
      ]
    },
    {
      "cell_type": "code",
      "execution_count": null,
      "metadata": {
        "colab": {
          "base_uri": "https://localhost:8080/"
        },
        "id": "JML6QNEBglsG",
        "outputId": "f56693b3-780c-4458-d63b-aa29ea51c0fd"
      },
      "outputs": [
        {
          "name": "stdout",
          "output_type": "stream",
          "text": [
            "(9016, 25)\n",
            "(9016, 26)\n"
          ]
        }
      ],
      "source": [
        "print(MayNov.shape)\n",
        "MayNov.insert(0, \"Specific Neighbourhood\", labelNeigh, True) \n",
        "print(MayNov.shape)"
      ]
    },
    {
      "cell_type": "code",
      "execution_count": null,
      "metadata": {
        "colab": {
          "base_uri": "https://localhost:8080/"
        },
        "id": "xYbyUYewgpz8",
        "outputId": "d4ca5094-55c0-48bc-e805-fb3065aa7149"
      },
      "outputs": [
        {
          "name": "stdout",
          "output_type": "stream",
          "text": [
            "(9016, 27)\n"
          ]
        }
      ],
      "source": [
        "nei = []\n",
        "\n",
        "for index, row in MayNov.iterrows():\n",
        "  string = row['Specific Neighbourhood']\n",
        "  if string == 'Other':\n",
        "    nei.append('Other')\n",
        "  else:\n",
        "    result = string[:string.index(\"(\")]\n",
        "    nei.append(result)\n",
        "\n",
        "MayNov.insert(0, \"Neighbourhood\", nei, True) \n",
        "print(MayNov.shape)"
      ]
    },
    {
      "cell_type": "markdown",
      "metadata": {
        "id": "HHz4tJOlWTZD"
      },
      "source": [
        "### Assess openings and closures"
      ]
    },
    {
      "cell_type": "code",
      "execution_count": null,
      "metadata": {
        "colab": {
          "base_uri": "https://localhost:8080/"
        },
        "id": "uPevsk3dhmZy",
        "outputId": "42e91bcb-1f9c-4bc6-b7c8-1b9c724bf8ef"
      },
      "outputs": [
        {
          "name": "stdout",
          "output_type": "stream",
          "text": [
            "['Column1', 'id', 'Status', 'name_x', 'is_closed_x', 'review_count_x', 'Categories', 'Categority', 'categories_x', 'rating_x', 'phone_x', 'distance_x', 'coordinates.latitude_x', 'coordinates.longitude_x', 'location.address1_x', 'location.address2_x', 'location.address3_x', 'location.city_x', 'location.zip_code_x', 'location.country_x', 'location.state_x', 'Neighbourhood', 'Specific Neighbourhood']\n",
            "['Unnamed: 0', 'Neighbourhood', 'Specific Neighbourhood', 'Unnamed: 0.1', 'id', 'alias', 'name', 'image_url', 'is_closed', 'url', 'review_count', 'categories', 'rating', 'transactions', 'price', 'phone', 'display_phone', 'distance', 'coordinates.latitude', 'coordinates.longitude', 'location.address1', 'location.address2', 'location.address3', 'location.city', 'location.zip_code', 'location.country', 'location.state', 'location.display_address']\n",
            "size of cleaned dataset: (5978, 2)\n",
            "size of newly aggregated dataset: (9016, 2)\n",
            "closed: (532, 3)\n",
            "new: (666, 3)\n",
            "After dropping duplicates: (5836, 2)\n"
          ]
        }
      ],
      "source": [
        "May2020 = pd.read_excel('TO_rest_May2Nov_cleaned.xlsx')\n",
        "May2021 = pd.read_excel('May2021.xlsx')\n",
        "\n",
        "#print(May2020.shape)\n",
        "#print(May2021.shape)\n",
        "print(May2020.columns.to_list())\n",
        "print(May2021.columns.to_list())\n",
        "\n",
        "df1 = May2020[['id', 'name_x']]\n",
        "df2 = May2021[['id', 'name']]\n",
        "print(\"size of cleaned dataset: \"+ str(df1.shape))\n",
        "print(\"size of newly aggregated dataset: \"+ str(df2.shape))\n",
        "df1 = pd.DataFrame(df1)\n",
        "df2 = pd.DataFrame(df2)\n",
        "df1.rename(columns={'name_x':'name'}, inplace=True)\n",
        "\n",
        "# 532 restaurants only in 2020\n",
        "only_in_2020 = df1.merge(df2, how = 'outer' ,indicator=True).loc[lambda x : x['_merge']=='left_only']\n",
        "# 666 restaurants only in 2021\n",
        "only_in_2021 = df1.merge(df2, how = 'outer' ,indicator=True).loc[lambda x : x['_merge']=='right_only']\n",
        "# occurs in both datastes\n",
        "across_2020_2021 = df1.merge(df2, how = 'outer' ,indicator=True).loc[lambda x : x['_merge']=='both']\n",
        "\n",
        "print(\"closed: \" + str(only_in_2020.shape))\n",
        "print(\"new: \" + str(only_in_2021.shape))\n",
        "\n",
        "# dropping ALL duplicte values\n",
        "df2.drop_duplicates(subset =\"id\",\n",
        "                     keep = \"first\", inplace = True)\n",
        "print(\"After dropping duplicates: \" + str(df2.shape)) #~60% of restaurants only have 1 category and the rest have 2+ categories "
      ]
    },
    {
      "cell_type": "code",
      "execution_count": null,
      "metadata": {
        "id": "irQzACXYzcca"
      },
      "outputs": [],
      "source": [
        "closed_dict = set(only_in_2020['id'])\n",
        "new_dict = set(only_in_2021['id'])"
      ]
    },
    {
      "cell_type": "code",
      "execution_count": null,
      "metadata": {
        "colab": {
          "base_uri": "https://localhost:8080/"
        },
        "id": "gzZBGW0Wx-th",
        "outputId": "6ae3a5a3-7149-4dd4-a5aa-0833851708d8"
      },
      "outputs": [
        {
          "name": "stdout",
          "output_type": "stream",
          "text": [
            "(5836, 30)\n"
          ]
        }
      ],
      "source": [
        "# iterate through 2020 dataset and clasify them as closed and open\n",
        "openClose = []\n",
        "\n",
        "for index, row in May2020.iterrows():\n",
        "  if row['id'] in closed_dict:\n",
        "    openClose.append('Closed')\n",
        "  else:\n",
        "    openClose.append('Open')\n",
        "\n",
        "May2020.insert(0, \"2021 Assessment\", openClose, True)\n",
        "\n",
        "May2020.to_excel('Yelp2020_Reassessment.xlsx')\n",
        "\n",
        "# iterate through 2021 dataset and isolate the \"new\" restaurants\n",
        "# keep the first appearing category (alphabetical order)\n",
        "May2021.drop_duplicates(subset =\"id\",\n",
        "                     keep = \"first\", inplace = True)\n",
        "newOld = []\n",
        "\n",
        "for index, row in May2021.iterrows():\n",
        "  if row['id'] in new_dict:\n",
        "    newOld.append('New')\n",
        "  else:\n",
        "    newOld.append('Old')\n",
        "\n",
        "May2021.insert(0, \"2021 Assessment\", newOld, True)\n",
        "\n",
        "May2021.to_excel('Yelp2021_Reassessment.xlsx')\n",
        "\n",
        "print(May2021.shape)\n"
      ]
    }
  ],
  "metadata": {
    "colab": {
      "authorship_tag": "ABX9TyMkc79KYv98F50UjgfpWHDy",
      "include_colab_link": true,
      "name": "Yelp_restaurant_closures.ipynb",
      "provenance": []
    },
    "kernelspec": {
      "display_name": "Python 3",
      "name": "python3"
    }
  },
  "nbformat": 4,
  "nbformat_minor": 0
}
